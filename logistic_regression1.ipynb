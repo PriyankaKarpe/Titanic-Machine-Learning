{
 "cells": [
  {
   "cell_type": "code",
   "execution_count": 1,
   "metadata": {},
   "outputs": [
    {
     "name": "stderr",
     "output_type": "stream",
     "text": [
      "/Users/sachinshinde/anaconda2/lib/python2.7/site-packages/sklearn/cross_validation.py:41: DeprecationWarning: This module was deprecated in version 0.18 in favor of the model_selection module into which all the refactored classes and functions are moved. Also note that the interface of the new CV iterators are different from that of this module. This module will be removed in 0.20.\n",
      "  \"This module will be removed in 0.20.\", DeprecationWarning)\n"
     ]
    }
   ],
   "source": [
    "import pandas as pd\n",
    "import numpy as np\n",
    "from sklearn import preprocessing\n",
    "from sklearn.cross_validation import train_test_split\n",
    "from sklearn.linear_model import LogisticRegression\n",
    "from sklearn.metrics import classification_report\n",
    "import matplotlib.pyplot as plt"
   ]
  },
  {
   "cell_type": "code",
   "execution_count": 2,
   "metadata": {},
   "outputs": [],
   "source": [
    "%matplotlib inline"
   ]
  },
  {
   "cell_type": "markdown",
   "metadata": {},
   "source": [
    "## Data Import"
   ]
  },
  {
   "cell_type": "code",
   "execution_count": 3,
   "metadata": {},
   "outputs": [],
   "source": [
    "data_df = pd.read_csv('/Users/sachinshinde/Desktop/Everything/Docs/Study/PurePython/titanic.csv')"
   ]
  },
  {
   "cell_type": "code",
   "execution_count": 4,
   "metadata": {
    "scrolled": true
   },
   "outputs": [
    {
     "data": {
      "text/html": [
       "<div>\n",
       "<style scoped>\n",
       "    .dataframe tbody tr th:only-of-type {\n",
       "        vertical-align: middle;\n",
       "    }\n",
       "\n",
       "    .dataframe tbody tr th {\n",
       "        vertical-align: top;\n",
       "    }\n",
       "\n",
       "    .dataframe thead th {\n",
       "        text-align: right;\n",
       "    }\n",
       "</style>\n",
       "<table border=\"1\" class=\"dataframe\">\n",
       "  <thead>\n",
       "    <tr style=\"text-align: right;\">\n",
       "      <th></th>\n",
       "      <th>PassengerId</th>\n",
       "      <th>Survived</th>\n",
       "      <th>Pclass</th>\n",
       "      <th>Name</th>\n",
       "      <th>Sex</th>\n",
       "      <th>Age</th>\n",
       "      <th>SibSp</th>\n",
       "      <th>Parch</th>\n",
       "      <th>Ticket</th>\n",
       "      <th>Fare</th>\n",
       "      <th>Cabin</th>\n",
       "      <th>Embarked</th>\n",
       "    </tr>\n",
       "  </thead>\n",
       "  <tbody>\n",
       "    <tr>\n",
       "      <th>0</th>\n",
       "      <td>1</td>\n",
       "      <td>0</td>\n",
       "      <td>3</td>\n",
       "      <td>Braund, Mr. Owen Harris</td>\n",
       "      <td>male</td>\n",
       "      <td>22.0</td>\n",
       "      <td>1</td>\n",
       "      <td>0</td>\n",
       "      <td>A/5 21171</td>\n",
       "      <td>7.2500</td>\n",
       "      <td>NaN</td>\n",
       "      <td>S</td>\n",
       "    </tr>\n",
       "    <tr>\n",
       "      <th>1</th>\n",
       "      <td>2</td>\n",
       "      <td>1</td>\n",
       "      <td>1</td>\n",
       "      <td>Cumings, Mrs. John Bradley (Florence Briggs Th...</td>\n",
       "      <td>female</td>\n",
       "      <td>38.0</td>\n",
       "      <td>1</td>\n",
       "      <td>0</td>\n",
       "      <td>PC 17599</td>\n",
       "      <td>71.2833</td>\n",
       "      <td>C85</td>\n",
       "      <td>C</td>\n",
       "    </tr>\n",
       "    <tr>\n",
       "      <th>2</th>\n",
       "      <td>3</td>\n",
       "      <td>1</td>\n",
       "      <td>3</td>\n",
       "      <td>Heikkinen, Miss. Laina</td>\n",
       "      <td>female</td>\n",
       "      <td>26.0</td>\n",
       "      <td>0</td>\n",
       "      <td>0</td>\n",
       "      <td>STON/O2. 3101282</td>\n",
       "      <td>7.9250</td>\n",
       "      <td>NaN</td>\n",
       "      <td>S</td>\n",
       "    </tr>\n",
       "    <tr>\n",
       "      <th>3</th>\n",
       "      <td>4</td>\n",
       "      <td>1</td>\n",
       "      <td>1</td>\n",
       "      <td>Futrelle, Mrs. Jacques Heath (Lily May Peel)</td>\n",
       "      <td>female</td>\n",
       "      <td>35.0</td>\n",
       "      <td>1</td>\n",
       "      <td>0</td>\n",
       "      <td>113803</td>\n",
       "      <td>53.1000</td>\n",
       "      <td>C123</td>\n",
       "      <td>S</td>\n",
       "    </tr>\n",
       "    <tr>\n",
       "      <th>4</th>\n",
       "      <td>5</td>\n",
       "      <td>0</td>\n",
       "      <td>3</td>\n",
       "      <td>Allen, Mr. William Henry</td>\n",
       "      <td>male</td>\n",
       "      <td>35.0</td>\n",
       "      <td>0</td>\n",
       "      <td>0</td>\n",
       "      <td>373450</td>\n",
       "      <td>8.0500</td>\n",
       "      <td>NaN</td>\n",
       "      <td>S</td>\n",
       "    </tr>\n",
       "  </tbody>\n",
       "</table>\n",
       "</div>"
      ],
      "text/plain": [
       "   PassengerId  Survived  Pclass  \\\n",
       "0            1         0       3   \n",
       "1            2         1       1   \n",
       "2            3         1       3   \n",
       "3            4         1       1   \n",
       "4            5         0       3   \n",
       "\n",
       "                                                Name     Sex   Age  SibSp  \\\n",
       "0                            Braund, Mr. Owen Harris    male  22.0      1   \n",
       "1  Cumings, Mrs. John Bradley (Florence Briggs Th...  female  38.0      1   \n",
       "2                             Heikkinen, Miss. Laina  female  26.0      0   \n",
       "3       Futrelle, Mrs. Jacques Heath (Lily May Peel)  female  35.0      1   \n",
       "4                           Allen, Mr. William Henry    male  35.0      0   \n",
       "\n",
       "   Parch            Ticket     Fare Cabin Embarked  \n",
       "0      0         A/5 21171   7.2500   NaN        S  \n",
       "1      0          PC 17599  71.2833   C85        C  \n",
       "2      0  STON/O2. 3101282   7.9250   NaN        S  \n",
       "3      0            113803  53.1000  C123        S  \n",
       "4      0            373450   8.0500   NaN        S  "
      ]
     },
     "execution_count": 4,
     "metadata": {},
     "output_type": "execute_result"
    }
   ],
   "source": [
    "data_df.head()"
   ]
  },
  {
   "cell_type": "markdown",
   "metadata": {},
   "source": [
    "## Summary Statistics"
   ]
  },
  {
   "cell_type": "code",
   "execution_count": 5,
   "metadata": {},
   "outputs": [
    {
     "name": "stdout",
     "output_type": "stream",
     "text": [
      "<class 'pandas.core.frame.DataFrame'>\n",
      "RangeIndex: 891 entries, 0 to 890\n",
      "Data columns (total 12 columns):\n",
      "PassengerId    891 non-null int64\n",
      "Survived       891 non-null int64\n",
      "Pclass         891 non-null int64\n",
      "Name           891 non-null object\n",
      "Sex            891 non-null object\n",
      "Age            714 non-null float64\n",
      "SibSp          891 non-null int64\n",
      "Parch          891 non-null int64\n",
      "Ticket         891 non-null object\n",
      "Fare           891 non-null float64\n",
      "Cabin          204 non-null object\n",
      "Embarked       889 non-null object\n",
      "dtypes: float64(2), int64(5), object(5)\n",
      "memory usage: 83.6+ KB\n"
     ]
    }
   ],
   "source": [
    "data_df.info()"
   ]
  },
  {
   "cell_type": "code",
   "execution_count": 6,
   "metadata": {},
   "outputs": [],
   "source": [
    "# There are 891 records with all the columns having data except Cabin.\n",
    "# The Age variable has some data missing"
   ]
  },
  {
   "cell_type": "code",
   "execution_count": 7,
   "metadata": {},
   "outputs": [],
   "source": [
    "# Lets first analyze the target variable"
   ]
  },
  {
   "cell_type": "code",
   "execution_count": 8,
   "metadata": {},
   "outputs": [
    {
     "data": {
      "image/png": "[encoded data removed]",
      "text/plain": [
       "<Figure size 432x288 with 1 Axes>"
      ]
     },
     "metadata": {},
     "output_type": "display_data"
    }
   ],
   "source": [
    "plt = pd.value_counts(data_df['Survived']).plot.bar()"
   ]
  },
  {
   "cell_type": "code",
   "execution_count": 9,
   "metadata": {},
   "outputs": [],
   "source": [
    "# There is good distribution of 0s and 1s in the target dataset"
   ]
  },
  {
   "cell_type": "markdown",
   "metadata": {},
   "source": [
    "## Slice and Dice"
   ]
  },
  {
   "cell_type": "code",
   "execution_count": 10,
   "metadata": {},
   "outputs": [],
   "source": [
    "# We have some of the Id fields and Name columns. We will drop those columns \n",
    "# PassengerId, PassengerId, Cabin, Ticket"
   ]
  },
  {
   "cell_type": "code",
   "execution_count": 11,
   "metadata": {},
   "outputs": [
    {
     "data": {
      "text/html": [
       "<div>\n",
       "<style scoped>\n",
       "    .dataframe tbody tr th:only-of-type {\n",
       "        vertical-align: middle;\n",
       "    }\n",
       "\n",
       "    .dataframe tbody tr th {\n",
       "        vertical-align: top;\n",
       "    }\n",
       "\n",
       "    .dataframe thead th {\n",
       "        text-align: right;\n",
       "    }\n",
       "</style>\n",
       "<table border=\"1\" class=\"dataframe\">\n",
       "  <thead>\n",
       "    <tr style=\"text-align: right;\">\n",
       "      <th></th>\n",
       "      <th>Survived</th>\n",
       "      <th>Pclass</th>\n",
       "      <th>Sex</th>\n",
       "      <th>Age</th>\n",
       "      <th>SibSp</th>\n",
       "      <th>Parch</th>\n",
       "      <th>Fare</th>\n",
       "      <th>Embarked</th>\n",
       "    </tr>\n",
       "  </thead>\n",
       "  <tbody>\n",
       "    <tr>\n",
       "      <th>0</th>\n",
       "      <td>0</td>\n",
       "      <td>3</td>\n",
       "      <td>male</td>\n",
       "      <td>22.0</td>\n",
       "      <td>1</td>\n",
       "      <td>0</td>\n",
       "      <td>7.2500</td>\n",
       "      <td>S</td>\n",
       "    </tr>\n",
       "    <tr>\n",
       "      <th>1</th>\n",
       "      <td>1</td>\n",
       "      <td>1</td>\n",
       "      <td>female</td>\n",
       "      <td>38.0</td>\n",
       "      <td>1</td>\n",
       "      <td>0</td>\n",
       "      <td>71.2833</td>\n",
       "      <td>C</td>\n",
       "    </tr>\n",
       "    <tr>\n",
       "      <th>2</th>\n",
       "      <td>1</td>\n",
       "      <td>3</td>\n",
       "      <td>female</td>\n",
       "      <td>26.0</td>\n",
       "      <td>0</td>\n",
       "      <td>0</td>\n",
       "      <td>7.9250</td>\n",
       "      <td>S</td>\n",
       "    </tr>\n",
       "    <tr>\n",
       "      <th>3</th>\n",
       "      <td>1</td>\n",
       "      <td>1</td>\n",
       "      <td>female</td>\n",
       "      <td>35.0</td>\n",
       "      <td>1</td>\n",
       "      <td>0</td>\n",
       "      <td>53.1000</td>\n",
       "      <td>S</td>\n",
       "    </tr>\n",
       "    <tr>\n",
       "      <th>4</th>\n",
       "      <td>0</td>\n",
       "      <td>3</td>\n",
       "      <td>male</td>\n",
       "      <td>35.0</td>\n",
       "      <td>0</td>\n",
       "      <td>0</td>\n",
       "      <td>8.0500</td>\n",
       "      <td>S</td>\n",
       "    </tr>\n",
       "  </tbody>\n",
       "</table>\n",
       "</div>"
      ],
      "text/plain": [
       "   Survived  Pclass     Sex   Age  SibSp  Parch     Fare Embarked\n",
       "0         0       3    male  22.0      1      0   7.2500        S\n",
       "1         1       1  female  38.0      1      0  71.2833        C\n",
       "2         1       3  female  26.0      0      0   7.9250        S\n",
       "3         1       1  female  35.0      1      0  53.1000        S\n",
       "4         0       3    male  35.0      0      0   8.0500        S"
      ]
     },
     "execution_count": 11,
     "metadata": {},
     "output_type": "execute_result"
    }
   ],
   "source": [
    "data_df = data_df.drop(['PassengerId','Name','Ticket','Cabin'], 1)\n",
    "data_df.head()"
   ]
  },
  {
   "cell_type": "code",
   "execution_count": 12,
   "metadata": {},
   "outputs": [],
   "source": [
    "# This is dataset we will work on for the next steps "
   ]
  },
  {
   "cell_type": "markdown",
   "metadata": {},
   "source": [
    "# Preprocessing"
   ]
  },
  {
   "cell_type": "code",
   "execution_count": 13,
   "metadata": {},
   "outputs": [
    {
     "data": {
      "text/plain": [
       "Survived      0\n",
       "Pclass        0\n",
       "Sex           0\n",
       "Age         177\n",
       "SibSp         0\n",
       "Parch         0\n",
       "Fare          0\n",
       "Embarked      2\n",
       "dtype: int64"
      ]
     },
     "execution_count": 13,
     "metadata": {},
     "output_type": "execute_result"
    }
   ],
   "source": [
    "# check missing values\n",
    "data_df.isnull().sum()"
   ]
  },
  {
   "cell_type": "code",
   "execution_count": 14,
   "metadata": {},
   "outputs": [],
   "source": [
    "# There are 177 missing values in Age\n",
    "# For survival we need to have Age values\n",
    "# Need to do the missing value imputation on Age"
   ]
  },
  {
   "cell_type": "code",
   "execution_count": 15,
   "metadata": {},
   "outputs": [],
   "source": [
    "# For the age value calculation, we have an assumption\n",
    "# The Class of the passanger is proportional to Avg. Age.\n",
    "# If Pclass is 1 the passanger can be older than one who is having Pclass = 2 or 3"
   ]
  },
  {
   "cell_type": "markdown",
   "metadata": {},
   "source": [
    "## Missing Values imputation for Age"
   ]
  },
  {
   "cell_type": "code",
   "execution_count": 16,
   "metadata": {},
   "outputs": [
    {
     "data": {
      "text/plain": [
       "38.233440860215055"
      ]
     },
     "execution_count": 16,
     "metadata": {},
     "output_type": "execute_result"
    }
   ],
   "source": [
    "age_df_class_1 = data_df.loc[data_df['Pclass'] == 1]\n",
    "avg_age_pclass1 = np.mean(age_df_class_1['Age'])\n",
    "avg_age_pclass1"
   ]
  },
  {
   "cell_type": "code",
   "execution_count": 17,
   "metadata": {},
   "outputs": [
    {
     "data": {
      "text/plain": [
       "29.87763005780347"
      ]
     },
     "execution_count": 17,
     "metadata": {},
     "output_type": "execute_result"
    }
   ],
   "source": [
    "age_df_class_2 = data_df.loc[data_df['Pclass'] == 2]\n",
    "avg_age_pclass2 = np.mean(age_df_class_2['Age'])\n",
    "avg_age_pclass2"
   ]
  },
  {
   "cell_type": "code",
   "execution_count": 18,
   "metadata": {},
   "outputs": [
    {
     "data": {
      "text/plain": [
       "25.14061971830986"
      ]
     },
     "execution_count": 18,
     "metadata": {},
     "output_type": "execute_result"
    }
   ],
   "source": [
    "age_df_class_3 = data_df.loc[data_df['Pclass'] == 3]\n",
    "avg_age_pclass3 = np.mean(age_df_class_3['Age'])\n",
    "avg_age_pclass3"
   ]
  },
  {
   "cell_type": "code",
   "execution_count": 19,
   "metadata": {},
   "outputs": [],
   "source": [
    "# We can conclude that the Age depends on Pclass, \n",
    "# we will use this information to impute the missing values"
   ]
  },
  {
   "cell_type": "code",
   "execution_count": 20,
   "metadata": {
    "scrolled": true
   },
   "outputs": [],
   "source": [
    "for index, row in data_df.iterrows():\n",
    "    if (np.isnan(row['Age']) and row['Pclass'] == 1):\n",
    "        data_df.at[index,'Age'] = 38\n",
    "    elif (np.isnan(row['Age']) and row['Pclass'] == 2):\n",
    "        data_df.at[index,'Age'] = 30\n",
    "    elif (np.isnan(row['Age']) and row['Pclass'] == 3):\n",
    "        data_df.at[index,'Age'] = 25"
   ]
  },
  {
   "cell_type": "code",
   "execution_count": 21,
   "metadata": {},
   "outputs": [
    {
     "data": {
      "text/plain": [
       "Survived    0\n",
       "Pclass      0\n",
       "Sex         0\n",
       "Age         0\n",
       "SibSp       0\n",
       "Parch       0\n",
       "Fare        0\n",
       "Embarked    2\n",
       "dtype: int64"
      ]
     },
     "execution_count": 21,
     "metadata": {},
     "output_type": "execute_result"
    }
   ],
   "source": [
    "data_df.isnull().sum()"
   ]
  },
  {
   "cell_type": "code",
   "execution_count": 22,
   "metadata": {},
   "outputs": [],
   "source": [
    "# No more missing values for Age\n",
    "# We can drop the records with 2 missing values in variale Embarked"
   ]
  },
  {
   "cell_type": "code",
   "execution_count": 23,
   "metadata": {},
   "outputs": [],
   "source": [
    "data_df.dropna(inplace=True)"
   ]
  },
  {
   "cell_type": "code",
   "execution_count": 24,
   "metadata": {},
   "outputs": [
    {
     "data": {
      "text/plain": [
       "Survived    0\n",
       "Pclass      0\n",
       "Sex         0\n",
       "Age         0\n",
       "SibSp       0\n",
       "Parch       0\n",
       "Fare        0\n",
       "Embarked    0\n",
       "dtype: int64"
      ]
     },
     "execution_count": 24,
     "metadata": {},
     "output_type": "execute_result"
    }
   ],
   "source": [
    "data_df.isnull().sum()"
   ]
  },
  {
   "cell_type": "code",
   "execution_count": 25,
   "metadata": {},
   "outputs": [],
   "source": [
    "# No More Missing Values"
   ]
  },
  {
   "cell_type": "markdown",
   "metadata": {},
   "source": [
    "## Column: Change from Categorical to Numerical"
   ]
  },
  {
   "cell_type": "code",
   "execution_count": 26,
   "metadata": {},
   "outputs": [],
   "source": [
    "data_df['Sex'].replace('female', 0 , inplace = True)"
   ]
  },
  {
   "cell_type": "code",
   "execution_count": 27,
   "metadata": {},
   "outputs": [],
   "source": [
    "data_df['Sex'].replace('male', 1 , inplace = True)"
   ]
  },
  {
   "cell_type": "code",
   "execution_count": 28,
   "metadata": {
    "scrolled": true
   },
   "outputs": [
    {
     "data": {
      "text/html": [
       "<div>\n",
       "<style scoped>\n",
       "    .dataframe tbody tr th:only-of-type {\n",
       "        vertical-align: middle;\n",
       "    }\n",
       "\n",
       "    .dataframe tbody tr th {\n",
       "        vertical-align: top;\n",
       "    }\n",
       "\n",
       "    .dataframe thead th {\n",
       "        text-align: right;\n",
       "    }\n",
       "</style>\n",
       "<table border=\"1\" class=\"dataframe\">\n",
       "  <thead>\n",
       "    <tr style=\"text-align: right;\">\n",
       "      <th></th>\n",
       "      <th>Survived</th>\n",
       "      <th>Pclass</th>\n",
       "      <th>Sex</th>\n",
       "      <th>Age</th>\n",
       "      <th>SibSp</th>\n",
       "      <th>Parch</th>\n",
       "      <th>Fare</th>\n",
       "      <th>Embarked</th>\n",
       "    </tr>\n",
       "  </thead>\n",
       "  <tbody>\n",
       "    <tr>\n",
       "      <th>0</th>\n",
       "      <td>0</td>\n",
       "      <td>3</td>\n",
       "      <td>1</td>\n",
       "      <td>22.0</td>\n",
       "      <td>1</td>\n",
       "      <td>0</td>\n",
       "      <td>7.2500</td>\n",
       "      <td>S</td>\n",
       "    </tr>\n",
       "    <tr>\n",
       "      <th>1</th>\n",
       "      <td>1</td>\n",
       "      <td>1</td>\n",
       "      <td>0</td>\n",
       "      <td>38.0</td>\n",
       "      <td>1</td>\n",
       "      <td>0</td>\n",
       "      <td>71.2833</td>\n",
       "      <td>C</td>\n",
       "    </tr>\n",
       "    <tr>\n",
       "      <th>2</th>\n",
       "      <td>1</td>\n",
       "      <td>3</td>\n",
       "      <td>0</td>\n",
       "      <td>26.0</td>\n",
       "      <td>0</td>\n",
       "      <td>0</td>\n",
       "      <td>7.9250</td>\n",
       "      <td>S</td>\n",
       "    </tr>\n",
       "    <tr>\n",
       "      <th>3</th>\n",
       "      <td>1</td>\n",
       "      <td>1</td>\n",
       "      <td>0</td>\n",
       "      <td>35.0</td>\n",
       "      <td>1</td>\n",
       "      <td>0</td>\n",
       "      <td>53.1000</td>\n",
       "      <td>S</td>\n",
       "    </tr>\n",
       "    <tr>\n",
       "      <th>4</th>\n",
       "      <td>0</td>\n",
       "      <td>3</td>\n",
       "      <td>1</td>\n",
       "      <td>35.0</td>\n",
       "      <td>0</td>\n",
       "      <td>0</td>\n",
       "      <td>8.0500</td>\n",
       "      <td>S</td>\n",
       "    </tr>\n",
       "  </tbody>\n",
       "</table>\n",
       "</div>"
      ],
      "text/plain": [
       "   Survived  Pclass  Sex   Age  SibSp  Parch     Fare Embarked\n",
       "0         0       3    1  22.0      1      0   7.2500        S\n",
       "1         1       1    0  38.0      1      0  71.2833        C\n",
       "2         1       3    0  26.0      0      0   7.9250        S\n",
       "3         1       1    0  35.0      1      0  53.1000        S\n",
       "4         0       3    1  35.0      0      0   8.0500        S"
      ]
     },
     "execution_count": 28,
     "metadata": {},
     "output_type": "execute_result"
    }
   ],
   "source": [
    "data_df.head()"
   ]
  },
  {
   "cell_type": "code",
   "execution_count": 29,
   "metadata": {},
   "outputs": [
    {
     "data": {
      "text/plain": [
       "0    S\n",
       "1    C\n",
       "2    S\n",
       "3    S\n",
       "4    S\n",
       "5    Q\n",
       "6    S\n",
       "7    S\n",
       "8    S\n",
       "9    C\n",
       "Name: Embarked, dtype: object"
      ]
     },
     "execution_count": 29,
     "metadata": {},
     "output_type": "execute_result"
    }
   ],
   "source": [
    "data_df['Embarked'].head(10)"
   ]
  },
  {
   "cell_type": "code",
   "execution_count": 30,
   "metadata": {},
   "outputs": [
    {
     "data": {
      "text/html": [
       "<div>\n",
       "<style scoped>\n",
       "    .dataframe tbody tr th:only-of-type {\n",
       "        vertical-align: middle;\n",
       "    }\n",
       "\n",
       "    .dataframe tbody tr th {\n",
       "        vertical-align: top;\n",
       "    }\n",
       "\n",
       "    .dataframe thead th {\n",
       "        text-align: right;\n",
       "    }\n",
       "</style>\n",
       "<table border=\"1\" class=\"dataframe\">\n",
       "  <thead>\n",
       "    <tr style=\"text-align: right;\">\n",
       "      <th></th>\n",
       "      <th>Q</th>\n",
       "      <th>S</th>\n",
       "    </tr>\n",
       "  </thead>\n",
       "  <tbody>\n",
       "    <tr>\n",
       "      <th>0</th>\n",
       "      <td>0</td>\n",
       "      <td>1</td>\n",
       "    </tr>\n",
       "    <tr>\n",
       "      <th>1</th>\n",
       "      <td>0</td>\n",
       "      <td>0</td>\n",
       "    </tr>\n",
       "    <tr>\n",
       "      <th>2</th>\n",
       "      <td>0</td>\n",
       "      <td>1</td>\n",
       "    </tr>\n",
       "    <tr>\n",
       "      <th>3</th>\n",
       "      <td>0</td>\n",
       "      <td>1</td>\n",
       "    </tr>\n",
       "    <tr>\n",
       "      <th>4</th>\n",
       "      <td>0</td>\n",
       "      <td>1</td>\n",
       "    </tr>\n",
       "  </tbody>\n",
       "</table>\n",
       "</div>"
      ],
      "text/plain": [
       "   Q  S\n",
       "0  0  1\n",
       "1  0  0\n",
       "2  0  1\n",
       "3  0  1\n",
       "4  0  1"
      ]
     },
     "execution_count": 30,
     "metadata": {},
     "output_type": "execute_result"
    }
   ],
   "source": [
    "# Embarked varible has more than two categories.\n",
    "# we will need to encode this variable in o and 1 by gerenrating few more \n",
    "# variables\n",
    "# we can use get_dummies which automatically figues out how to solve it\n",
    "embark_dummy = pd.get_dummies(data_df['Embarked'],drop_first=True)\n",
    "embark_dummy.head()"
   ]
  },
  {
   "cell_type": "code",
   "execution_count": 31,
   "metadata": {},
   "outputs": [
    {
     "data": {
      "text/html": [
       "<div>\n",
       "<style scoped>\n",
       "    .dataframe tbody tr th:only-of-type {\n",
       "        vertical-align: middle;\n",
       "    }\n",
       "\n",
       "    .dataframe tbody tr th {\n",
       "        vertical-align: top;\n",
       "    }\n",
       "\n",
       "    .dataframe thead th {\n",
       "        text-align: right;\n",
       "    }\n",
       "</style>\n",
       "<table border=\"1\" class=\"dataframe\">\n",
       "  <thead>\n",
       "    <tr style=\"text-align: right;\">\n",
       "      <th></th>\n",
       "      <th>Survived</th>\n",
       "      <th>Pclass</th>\n",
       "      <th>Sex</th>\n",
       "      <th>Age</th>\n",
       "      <th>SibSp</th>\n",
       "      <th>Parch</th>\n",
       "      <th>Fare</th>\n",
       "    </tr>\n",
       "  </thead>\n",
       "  <tbody>\n",
       "    <tr>\n",
       "      <th>0</th>\n",
       "      <td>0</td>\n",
       "      <td>3</td>\n",
       "      <td>1</td>\n",
       "      <td>22.0</td>\n",
       "      <td>1</td>\n",
       "      <td>0</td>\n",
       "      <td>7.2500</td>\n",
       "    </tr>\n",
       "    <tr>\n",
       "      <th>1</th>\n",
       "      <td>1</td>\n",
       "      <td>1</td>\n",
       "      <td>0</td>\n",
       "      <td>38.0</td>\n",
       "      <td>1</td>\n",
       "      <td>0</td>\n",
       "      <td>71.2833</td>\n",
       "    </tr>\n",
       "    <tr>\n",
       "      <th>2</th>\n",
       "      <td>1</td>\n",
       "      <td>3</td>\n",
       "      <td>0</td>\n",
       "      <td>26.0</td>\n",
       "      <td>0</td>\n",
       "      <td>0</td>\n",
       "      <td>7.9250</td>\n",
       "    </tr>\n",
       "    <tr>\n",
       "      <th>3</th>\n",
       "      <td>1</td>\n",
       "      <td>1</td>\n",
       "      <td>0</td>\n",
       "      <td>35.0</td>\n",
       "      <td>1</td>\n",
       "      <td>0</td>\n",
       "      <td>53.1000</td>\n",
       "    </tr>\n",
       "    <tr>\n",
       "      <th>4</th>\n",
       "      <td>0</td>\n",
       "      <td>3</td>\n",
       "      <td>1</td>\n",
       "      <td>35.0</td>\n",
       "      <td>0</td>\n",
       "      <td>0</td>\n",
       "      <td>8.0500</td>\n",
       "    </tr>\n",
       "  </tbody>\n",
       "</table>\n",
       "</div>"
      ],
      "text/plain": [
       "   Survived  Pclass  Sex   Age  SibSp  Parch     Fare\n",
       "0         0       3    1  22.0      1      0   7.2500\n",
       "1         1       1    0  38.0      1      0  71.2833\n",
       "2         1       3    0  26.0      0      0   7.9250\n",
       "3         1       1    0  35.0      1      0  53.1000\n",
       "4         0       3    1  35.0      0      0   8.0500"
      ]
     },
     "execution_count": 31,
     "metadata": {},
     "output_type": "execute_result"
    }
   ],
   "source": [
    "data_df.drop(['Embarked'], axis =1 , inplace = True)\n",
    "data_df.head()"
   ]
  },
  {
   "cell_type": "code",
   "execution_count": 32,
   "metadata": {},
   "outputs": [
    {
     "data": {
      "text/html": [
       "<div>\n",
       "<style scoped>\n",
       "    .dataframe tbody tr th:only-of-type {\n",
       "        vertical-align: middle;\n",
       "    }\n",
       "\n",
       "    .dataframe tbody tr th {\n",
       "        vertical-align: top;\n",
       "    }\n",
       "\n",
       "    .dataframe thead th {\n",
       "        text-align: right;\n",
       "    }\n",
       "</style>\n",
       "<table border=\"1\" class=\"dataframe\">\n",
       "  <thead>\n",
       "    <tr style=\"text-align: right;\">\n",
       "      <th></th>\n",
       "      <th>Survived</th>\n",
       "      <th>Pclass</th>\n",
       "      <th>Sex</th>\n",
       "      <th>Age</th>\n",
       "      <th>SibSp</th>\n",
       "      <th>Parch</th>\n",
       "      <th>Fare</th>\n",
       "      <th>Q</th>\n",
       "      <th>S</th>\n",
       "    </tr>\n",
       "  </thead>\n",
       "  <tbody>\n",
       "    <tr>\n",
       "      <th>0</th>\n",
       "      <td>0</td>\n",
       "      <td>3</td>\n",
       "      <td>1</td>\n",
       "      <td>22.0</td>\n",
       "      <td>1</td>\n",
       "      <td>0</td>\n",
       "      <td>7.2500</td>\n",
       "      <td>0</td>\n",
       "      <td>1</td>\n",
       "    </tr>\n",
       "    <tr>\n",
       "      <th>1</th>\n",
       "      <td>1</td>\n",
       "      <td>1</td>\n",
       "      <td>0</td>\n",
       "      <td>38.0</td>\n",
       "      <td>1</td>\n",
       "      <td>0</td>\n",
       "      <td>71.2833</td>\n",
       "      <td>0</td>\n",
       "      <td>0</td>\n",
       "    </tr>\n",
       "    <tr>\n",
       "      <th>2</th>\n",
       "      <td>1</td>\n",
       "      <td>3</td>\n",
       "      <td>0</td>\n",
       "      <td>26.0</td>\n",
       "      <td>0</td>\n",
       "      <td>0</td>\n",
       "      <td>7.9250</td>\n",
       "      <td>0</td>\n",
       "      <td>1</td>\n",
       "    </tr>\n",
       "    <tr>\n",
       "      <th>3</th>\n",
       "      <td>1</td>\n",
       "      <td>1</td>\n",
       "      <td>0</td>\n",
       "      <td>35.0</td>\n",
       "      <td>1</td>\n",
       "      <td>0</td>\n",
       "      <td>53.1000</td>\n",
       "      <td>0</td>\n",
       "      <td>1</td>\n",
       "    </tr>\n",
       "    <tr>\n",
       "      <th>4</th>\n",
       "      <td>0</td>\n",
       "      <td>3</td>\n",
       "      <td>1</td>\n",
       "      <td>35.0</td>\n",
       "      <td>0</td>\n",
       "      <td>0</td>\n",
       "      <td>8.0500</td>\n",
       "      <td>0</td>\n",
       "      <td>1</td>\n",
       "    </tr>\n",
       "  </tbody>\n",
       "</table>\n",
       "</div>"
      ],
      "text/plain": [
       "   Survived  Pclass  Sex   Age  SibSp  Parch     Fare  Q  S\n",
       "0         0       3    1  22.0      1      0   7.2500  0  1\n",
       "1         1       1    0  38.0      1      0  71.2833  0  0\n",
       "2         1       3    0  26.0      0      0   7.9250  0  1\n",
       "3         1       1    0  35.0      1      0  53.1000  0  1\n",
       "4         0       3    1  35.0      0      0   8.0500  0  1"
      ]
     },
     "execution_count": 32,
     "metadata": {},
     "output_type": "execute_result"
    }
   ],
   "source": [
    "# Now we will need to add the two columns from embark_dummy dataframe\n",
    "# We can use concat\n",
    "data_df = pd.concat([data_df,embark_dummy],axis=1)\n",
    "data_df.head()\n"
   ]
  },
  {
   "cell_type": "markdown",
   "metadata": {},
   "source": [
    "## Assumptions testing"
   ]
  },
  {
   "cell_type": "code",
   "execution_count": 33,
   "metadata": {},
   "outputs": [],
   "source": [
    "# Check for colinearity to see if the tow variales are independent"
   ]
  },
  {
   "cell_type": "code",
   "execution_count": 34,
   "metadata": {},
   "outputs": [],
   "source": [
    "from pandas.plotting import scatter_matrix"
   ]
  },
  {
   "cell_type": "code",
   "execution_count": 35,
   "metadata": {},
   "outputs": [
    {
     "data": {
      "text/plain": [
       "array([[<matplotlib.axes._subplots.AxesSubplot object at 0x1a1e9b5410>,\n",
       "        <matplotlib.axes._subplots.AxesSubplot object at 0x1a1ea4c150>,\n",
       "        <matplotlib.axes._subplots.AxesSubplot object at 0x1a1ea77e90>,\n",
       "        <matplotlib.axes._subplots.AxesSubplot object at 0x1a1eab1c90>,\n",
       "        <matplotlib.axes._subplots.AxesSubplot object at 0x1a1eae7e50>,\n",
       "        <matplotlib.axes._subplots.AxesSubplot object at 0x1a1eb2c050>,\n",
       "        <matplotlib.axes._subplots.AxesSubplot object at 0x1a1eb62210>,\n",
       "        <matplotlib.axes._subplots.AxesSubplot object at 0x1a1eb9d3d0>,\n",
       "        <matplotlib.axes._subplots.AxesSubplot object at 0x1a1ebd3590>],\n",
       "       [<matplotlib.axes._subplots.AxesSubplot object at 0x1a1ec0a750>,\n",
       "        <matplotlib.axes._subplots.AxesSubplot object at 0x1a1ec42910>,\n",
       "        <matplotlib.axes._subplots.AxesSubplot object at 0x1a1ec7aad0>,\n",
       "        <matplotlib.axes._subplots.AxesSubplot object at 0x1a1ecb2c90>,\n",
       "        <matplotlib.axes._subplots.AxesSubplot object at 0x1a1ecece50>,\n",
       "        <matplotlib.axes._subplots.AxesSubplot object at 0x1a1ed31050>,\n",
       "        <matplotlib.axes._subplots.AxesSubplot object at 0x1a1ed68210>,\n",
       "        <matplotlib.axes._subplots.AxesSubplot object at 0x1a1eda13d0>,\n",
       "        <matplotlib.axes._subplots.AxesSubplot object at 0x1a1edda590>],\n",
       "       [<matplotlib.axes._subplots.AxesSubplot object at 0x1a1ee12750>,\n",
       "        <matplotlib.axes._subplots.AxesSubplot object at 0x1a1ee49910>,\n",
       "        <matplotlib.axes._subplots.AxesSubplot object at 0x1a1ee81ad0>,\n",
       "        <matplotlib.axes._subplots.AxesSubplot object at 0x1a1eebac90>,\n",
       "        <matplotlib.axes._subplots.AxesSubplot object at 0x1a1eef4e50>,\n",
       "        <matplotlib.axes._subplots.AxesSubplot object at 0x1a1ef39050>,\n",
       "        <matplotlib.axes._subplots.AxesSubplot object at 0x1a1ef70210>,\n",
       "        <matplotlib.axes._subplots.AxesSubplot object at 0x1a1efa83d0>,\n",
       "        <matplotlib.axes._subplots.AxesSubplot object at 0x1a1efe1590>],\n",
       "       [<matplotlib.axes._subplots.AxesSubplot object at 0x1a1f019690>,\n",
       "        <matplotlib.axes._subplots.AxesSubplot object at 0x1a1f052850>,\n",
       "        <matplotlib.axes._subplots.AxesSubplot object at 0x1a1f08aa10>,\n",
       "        <matplotlib.axes._subplots.AxesSubplot object at 0x1a1f0c4bd0>,\n",
       "        <matplotlib.axes._subplots.AxesSubplot object at 0x1a1f0fdd90>,\n",
       "        <matplotlib.axes._subplots.AxesSubplot object at 0x1a1f134f50>,\n",
       "        <matplotlib.axes._subplots.AxesSubplot object at 0x1a1f177150>,\n",
       "        <matplotlib.axes._subplots.AxesSubplot object at 0x1a1f1b2310>,\n",
       "        <matplotlib.axes._subplots.AxesSubplot object at 0x1a1f1ea4d0>],\n",
       "       [<matplotlib.axes._subplots.AxesSubplot object at 0x1a1f222690>,\n",
       "        <matplotlib.axes._subplots.AxesSubplot object at 0x1a1f25b850>,\n",
       "        <matplotlib.axes._subplots.AxesSubplot object at 0x1a1f293a10>,\n",
       "        <matplotlib.axes._subplots.AxesSubplot object at 0x1a1f2cdbd0>,\n",
       "        <matplotlib.axes._subplots.AxesSubplot object at 0x1a1f304d90>,\n",
       "        <matplotlib.axes._subplots.AxesSubplot object at 0x1a1f33ef50>,\n",
       "        <matplotlib.axes._subplots.AxesSubplot object at 0x1a1f380150>,\n",
       "        <matplotlib.axes._subplots.AxesSubplot object at 0x1a1f3b9310>,\n",
       "        <matplotlib.axes._subplots.AxesSubplot object at 0x1a1f3f24d0>],\n",
       "       [<matplotlib.axes._subplots.AxesSubplot object at 0x1a1f429690>,\n",
       "        <matplotlib.axes._subplots.AxesSubplot object at 0x1a1f461850>,\n",
       "        <matplotlib.axes._subplots.AxesSubplot object at 0x1a1f49ca10>,\n",
       "        <matplotlib.axes._subplots.AxesSubplot object at 0x1a1f4d4bd0>,\n",
       "        <matplotlib.axes._subplots.AxesSubplot object at 0x1a1f50cd90>,\n",
       "        <matplotlib.axes._subplots.AxesSubplot object at 0x1a1f544f50>,\n",
       "        <matplotlib.axes._subplots.AxesSubplot object at 0x1a1f58a150>,\n",
       "        <matplotlib.axes._subplots.AxesSubplot object at 0x1a1f5c2310>,\n",
       "        <matplotlib.axes._subplots.AxesSubplot object at 0x1a1f5fa4d0>],\n",
       "       [<matplotlib.axes._subplots.AxesSubplot object at 0x1a1f632690>,\n",
       "        <matplotlib.axes._subplots.AxesSubplot object at 0x1a1f66c850>,\n",
       "        <matplotlib.axes._subplots.AxesSubplot object at 0x1a1f6a4a10>,\n",
       "        <matplotlib.axes._subplots.AxesSubplot object at 0x1a1f6dbbd0>,\n",
       "        <matplotlib.axes._subplots.AxesSubplot object at 0x1a1f715d90>,\n",
       "        <matplotlib.axes._subplots.AxesSubplot object at 0x1a1f74cf50>,\n",
       "        <matplotlib.axes._subplots.AxesSubplot object at 0x1a1f790150>,\n",
       "        <matplotlib.axes._subplots.AxesSubplot object at 0x1a1f7c9310>,\n",
       "        <matplotlib.axes._subplots.AxesSubplot object at 0x1a1f8034d0>],\n",
       "       [<matplotlib.axes._subplots.AxesSubplot object at 0x1a1f83b690>,\n",
       "        <matplotlib.axes._subplots.AxesSubplot object at 0x1a1f874850>,\n",
       "        <matplotlib.axes._subplots.AxesSubplot object at 0x1a1f8ada10>,\n",
       "        <matplotlib.axes._subplots.AxesSubplot object at 0x1a1f8e5bd0>,\n",
       "        <matplotlib.axes._subplots.AxesSubplot object at 0x1a1f91cd90>,\n",
       "        <matplotlib.axes._subplots.AxesSubplot object at 0x1a1f955f50>,\n",
       "        <matplotlib.axes._subplots.AxesSubplot object at 0x1a1f999150>,\n",
       "        <matplotlib.axes._subplots.AxesSubplot object at 0x1a1f9d1310>,\n",
       "        <matplotlib.axes._subplots.AxesSubplot object at 0x1a1fa094d0>],\n",
       "       [<matplotlib.axes._subplots.AxesSubplot object at 0x1a1fa44690>,\n",
       "        <matplotlib.axes._subplots.AxesSubplot object at 0x1a1fa7b850>,\n",
       "        <matplotlib.axes._subplots.AxesSubplot object at 0x1a1fab2a10>,\n",
       "        <matplotlib.axes._subplots.AxesSubplot object at 0x1a1faecbd0>,\n",
       "        <matplotlib.axes._subplots.AxesSubplot object at 0x1a1fb23d90>,\n",
       "        <matplotlib.axes._subplots.AxesSubplot object at 0x1a1fb5bf50>,\n",
       "        <matplotlib.axes._subplots.AxesSubplot object at 0x1a1fba3150>,\n",
       "        <matplotlib.axes._subplots.AxesSubplot object at 0x1a1fbdb310>,\n",
       "        <matplotlib.axes._subplots.AxesSubplot object at 0x1a1fc134d0>]],\n",
       "      dtype=object)"
      ]
     },
     "execution_count": 35,
     "metadata": {},
     "output_type": "execute_result"
    },
    {
     "data": {
      "image/png": "[encoded data removed]",
      "text/plain": [
       "<Figure size 864x864 with 81 Axes>"
      ]
     },
     "metadata": {},
     "output_type": "display_data"
    }
   ],
   "source": [
    "scatter_matrix(data_df, alpha = 0.2, figsize = (12, 12), diagonal = 'kde')"
   ]
  },
  {
   "cell_type": "markdown",
   "metadata": {},
   "source": [
    "### We can see that Pclass now has very little influence on Survived function"
   ]
  },
  {
   "cell_type": "code",
   "execution_count": 36,
   "metadata": {},
   "outputs": [
    {
     "data": {
      "text/html": [
       "<style  type=\"text/css\" >\n",
       "    #T_118eeb80_b19b_11e8_978e_784f43979e13row0_col0 {\n",
       "            background-color:  #023858;\n",
       "        }    #T_118eeb80_b19b_11e8_978e_784f43979e13row0_col1 {\n",
       "            background-color:  #e9e5f1;\n",
       "        }    #T_118eeb80_b19b_11e8_978e_784f43979e13row0_col2 {\n",
       "            background-color:  #fff7fb;\n",
       "        }    #T_118eeb80_b19b_11e8_978e_784f43979e13row0_col3 {\n",
       "            background-color:  #d1d2e6;\n",
       "        }    #T_118eeb80_b19b_11e8_978e_784f43979e13row0_col4 {\n",
       "            background-color:  #e2dfee;\n",
       "        }    #T_118eeb80_b19b_11e8_978e_784f43979e13row0_col5 {\n",
       "            background-color:  #cccfe5;\n",
       "        }    #T_118eeb80_b19b_11e8_978e_784f43979e13row0_col6 {\n",
       "            background-color:  #6ba5cd;\n",
       "        }    #T_118eeb80_b19b_11e8_978e_784f43979e13row0_col7 {\n",
       "            background-color:  #b3c3de;\n",
       "        }    #T_118eeb80_b19b_11e8_978e_784f43979e13row0_col8 {\n",
       "            background-color:  #d4d4e8;\n",
       "        }    #T_118eeb80_b19b_11e8_978e_784f43979e13row1_col0 {\n",
       "            background-color:  #eae6f1;\n",
       "        }    #T_118eeb80_b19b_11e8_978e_784f43979e13row1_col1 {\n",
       "            background-color:  #023858;\n",
       "        }    #T_118eeb80_b19b_11e8_978e_784f43979e13row1_col2 {\n",
       "            background-color:  #8eb3d5;\n",
       "        }    #T_118eeb80_b19b_11e8_978e_784f43979e13row1_col3 {\n",
       "            background-color:  #fff7fb;\n",
       "        }    #T_118eeb80_b19b_11e8_978e_784f43979e13row1_col4 {\n",
       "            background-color:  #cdd0e5;\n",
       "        }    #T_118eeb80_b19b_11e8_978e_784f43979e13row1_col5 {\n",
       "            background-color:  #d9d8ea;\n",
       "        }    #T_118eeb80_b19b_11e8_978e_784f43979e13row1_col6 {\n",
       "            background-color:  #fff7fb;\n",
       "        }    #T_118eeb80_b19b_11e8_978e_784f43979e13row1_col7 {\n",
       "            background-color:  #7dacd1;\n",
       "        }    #T_118eeb80_b19b_11e8_978e_784f43979e13row1_col8 {\n",
       "            background-color:  #a2bcda;\n",
       "        }    #T_118eeb80_b19b_11e8_978e_784f43979e13row2_col0 {\n",
       "            background-color:  #fff7fb;\n",
       "        }    #T_118eeb80_b19b_11e8_978e_784f43979e13row2_col1 {\n",
       "            background-color:  #8eb3d5;\n",
       "        }    #T_118eeb80_b19b_11e8_978e_784f43979e13row2_col2 {\n",
       "            background-color:  #023858;\n",
       "        }    #T_118eeb80_b19b_11e8_978e_784f43979e13row2_col3 {\n",
       "            background-color:  #b0c2de;\n",
       "        }    #T_118eeb80_b19b_11e8_978e_784f43979e13row2_col4 {\n",
       "            background-color:  #f0eaf4;\n",
       "        }    #T_118eeb80_b19b_11e8_978e_784f43979e13row2_col5 {\n",
       "            background-color:  #fff7fb;\n",
       "        }    #T_118eeb80_b19b_11e8_978e_784f43979e13row2_col6 {\n",
       "            background-color:  #d3d4e7;\n",
       "        }    #T_118eeb80_b19b_11e8_978e_784f43979e13row2_col7 {\n",
       "            background-color:  #c5cce3;\n",
       "        }    #T_118eeb80_b19b_11e8_978e_784f43979e13row2_col8 {\n",
       "            background-color:  #97b7d7;\n",
       "        }    #T_118eeb80_b19b_11e8_978e_784f43979e13row3_col0 {\n",
       "            background-color:  #bbc7e0;\n",
       "        }    #T_118eeb80_b19b_11e8_978e_784f43979e13row3_col1 {\n",
       "            background-color:  #f1ebf4;\n",
       "        }    #T_118eeb80_b19b_11e8_978e_784f43979e13row3_col2 {\n",
       "            background-color:  #99b8d8;\n",
       "        }    #T_118eeb80_b19b_11e8_978e_784f43979e13row3_col3 {\n",
       "            background-color:  #023858;\n",
       "        }    #T_118eeb80_b19b_11e8_978e_784f43979e13row3_col4 {\n",
       "            background-color:  #fff7fb;\n",
       "        }    #T_118eeb80_b19b_11e8_978e_784f43979e13row3_col5 {\n",
       "            background-color:  #f6eff7;\n",
       "        }    #T_118eeb80_b19b_11e8_978e_784f43979e13row3_col6 {\n",
       "            background-color:  #8fb4d6;\n",
       "        }    #T_118eeb80_b19b_11e8_978e_784f43979e13row3_col7 {\n",
       "            background-color:  #c4cbe3;\n",
       "        }    #T_118eeb80_b19b_11e8_978e_784f43979e13row3_col8 {\n",
       "            background-color:  #b3c3de;\n",
       "        }    #T_118eeb80_b19b_11e8_978e_784f43979e13row4_col0 {\n",
       "            background-color:  #b5c4df;\n",
       "        }    #T_118eeb80_b19b_11e8_978e_784f43979e13row4_col1 {\n",
       "            background-color:  #99b8d8;\n",
       "        }    #T_118eeb80_b19b_11e8_978e_784f43979e13row4_col2 {\n",
       "            background-color:  #c8cde4;\n",
       "        }    #T_118eeb80_b19b_11e8_978e_784f43979e13row4_col3 {\n",
       "            background-color:  #eee9f3;\n",
       "        }    #T_118eeb80_b19b_11e8_978e_784f43979e13row4_col4 {\n",
       "            background-color:  #023858;\n",
       "        }    #T_118eeb80_b19b_11e8_978e_784f43979e13row4_col5 {\n",
       "            background-color:  #65a3cb;\n",
       "        }    #T_118eeb80_b19b_11e8_978e_784f43979e13row4_col6 {\n",
       "            background-color:  #84b0d3;\n",
       "        }    #T_118eeb80_b19b_11e8_978e_784f43979e13row4_col7 {\n",
       "            background-color:  #bbc7e0;\n",
       "        }    #T_118eeb80_b19b_11e8_978e_784f43979e13row4_col8 {\n",
       "            background-color:  #a4bcda;\n",
       "        }    #T_118eeb80_b19b_11e8_978e_784f43979e13row5_col0 {\n",
       "            background-color:  #9ab8d8;\n",
       "        }    #T_118eeb80_b19b_11e8_978e_784f43979e13row5_col1 {\n",
       "            background-color:  #a9bfdc;\n",
       "        }    #T_118eeb80_b19b_11e8_978e_784f43979e13row5_col2 {\n",
       "            background-color:  #dedcec;\n",
       "        }    #T_118eeb80_b19b_11e8_978e_784f43979e13row5_col3 {\n",
       "            background-color:  #e4e1ef;\n",
       "        }    #T_118eeb80_b19b_11e8_978e_784f43979e13row5_col4 {\n",
       "            background-color:  #65a3cb;\n",
       "        }    #T_118eeb80_b19b_11e8_978e_784f43979e13row5_col5 {\n",
       "            background-color:  #023858;\n",
       "        }    #T_118eeb80_b19b_11e8_978e_784f43979e13row5_col6 {\n",
       "            background-color:  #76aad0;\n",
       "        }    #T_118eeb80_b19b_11e8_978e_784f43979e13row5_col7 {\n",
       "            background-color:  #c6cce3;\n",
       "        }    #T_118eeb80_b19b_11e8_978e_784f43979e13row5_col8 {\n",
       "            background-color:  #a7bddb;\n",
       "        }    #T_118eeb80_b19b_11e8_978e_784f43979e13row6_col0 {\n",
       "            background-color:  #6ba5cd;\n",
       "        }    #T_118eeb80_b19b_11e8_978e_784f43979e13row6_col1 {\n",
       "            background-color:  #fff7fb;\n",
       "        }    #T_118eeb80_b19b_11e8_978e_784f43979e13row6_col2 {\n",
       "            background-color:  #d3d4e7;\n",
       "        }    #T_118eeb80_b19b_11e8_978e_784f43979e13row6_col3 {\n",
       "            background-color:  #a8bedc;\n",
       "        }    #T_118eeb80_b19b_11e8_978e_784f43979e13row6_col4 {\n",
       "            background-color:  #b7c5df;\n",
       "        }    #T_118eeb80_b19b_11e8_978e_784f43979e13row6_col5 {\n",
       "            background-color:  #a7bddb;\n",
       "        }    #T_118eeb80_b19b_11e8_978e_784f43979e13row6_col6 {\n",
       "            background-color:  #023858;\n",
       "        }    #T_118eeb80_b19b_11e8_978e_784f43979e13row6_col7 {\n",
       "            background-color:  #ced0e6;\n",
       "        }    #T_118eeb80_b19b_11e8_978e_784f43979e13row6_col8 {\n",
       "            background-color:  #d6d6e9;\n",
       "        }    #T_118eeb80_b19b_11e8_978e_784f43979e13row7_col0 {\n",
       "            background-color:  #adc1dd;\n",
       "        }    #T_118eeb80_b19b_11e8_978e_784f43979e13row7_col1 {\n",
       "            background-color:  #75a9cf;\n",
       "        }    #T_118eeb80_b19b_11e8_978e_784f43979e13row7_col2 {\n",
       "            background-color:  #bfc9e1;\n",
       "        }    #T_118eeb80_b19b_11e8_978e_784f43979e13row7_col3 {\n",
       "            background-color:  #d3d4e7;\n",
       "        }    #T_118eeb80_b19b_11e8_978e_784f43979e13row7_col4 {\n",
       "            background-color:  #e1dfed;\n",
       "        }    #T_118eeb80_b19b_11e8_978e_784f43979e13row7_col5 {\n",
       "            background-color:  #eae6f1;\n",
       "        }    #T_118eeb80_b19b_11e8_978e_784f43979e13row7_col6 {\n",
       "            background-color:  #c6cce3;\n",
       "        }    #T_118eeb80_b19b_11e8_978e_784f43979e13row7_col7 {\n",
       "            background-color:  #023858;\n",
       "        }    #T_118eeb80_b19b_11e8_978e_784f43979e13row7_col8 {\n",
       "            background-color:  #fff7fb;\n",
       "        }    #T_118eeb80_b19b_11e8_978e_784f43979e13row8_col0 {\n",
       "            background-color:  #d0d1e6;\n",
       "        }    #T_118eeb80_b19b_11e8_978e_784f43979e13row8_col1 {\n",
       "            background-color:  #9ab8d8;\n",
       "        }    #T_118eeb80_b19b_11e8_978e_784f43979e13row8_col2 {\n",
       "            background-color:  #8fb4d6;\n",
       "        }    #T_118eeb80_b19b_11e8_978e_784f43979e13row8_col3 {\n",
       "            background-color:  #c2cbe2;\n",
       "        }    #T_118eeb80_b19b_11e8_978e_784f43979e13row8_col4 {\n",
       "            background-color:  #d0d1e6;\n",
       "        }    #T_118eeb80_b19b_11e8_978e_784f43979e13row8_col5 {\n",
       "            background-color:  #d1d2e6;\n",
       "        }    #T_118eeb80_b19b_11e8_978e_784f43979e13row8_col6 {\n",
       "            background-color:  #d1d2e6;\n",
       "        }    #T_118eeb80_b19b_11e8_978e_784f43979e13row8_col7 {\n",
       "            background-color:  #fff7fb;\n",
       "        }    #T_118eeb80_b19b_11e8_978e_784f43979e13row8_col8 {\n",
       "            background-color:  #023858;\n",
       "        }</style>  \n",
       "<table id=\"T_118eeb80_b19b_11e8_978e_784f43979e13\" > \n",
       "<thead>    <tr> \n",
       "        <th class=\"blank level0\" ></th> \n",
       "        <th class=\"col_heading level0 col0\" >Survived</th> \n",
       "        <th class=\"col_heading level0 col1\" >Pclass</th> \n",
       "        <th class=\"col_heading level0 col2\" >Sex</th> \n",
       "        <th class=\"col_heading level0 col3\" >Age</th> \n",
       "        <th class=\"col_heading level0 col4\" >SibSp</th> \n",
       "        <th class=\"col_heading level0 col5\" >Parch</th> \n",
       "        <th class=\"col_heading level0 col6\" >Fare</th> \n",
       "        <th class=\"col_heading level0 col7\" >Q</th> \n",
       "        <th class=\"col_heading level0 col8\" >S</th> \n",
       "    </tr></thead> \n",
       "<tbody>    <tr> \n",
       "        <th id=\"T_118eeb80_b19b_11e8_978e_784f43979e13level0_row0\" class=\"row_heading level0 row0\" >Survived</th> \n",
       "        <td id=\"T_118eeb80_b19b_11e8_978e_784f43979e13row0_col0\" class=\"data row0 col0\" >1</td> \n",
       "        <td id=\"T_118eeb80_b19b_11e8_978e_784f43979e13row0_col1\" class=\"data row0 col1\" >-0.335549</td> \n",
       "        <td id=\"T_118eeb80_b19b_11e8_978e_784f43979e13row0_col2\" class=\"data row0 col2\" >-0.541585</td> \n",
       "        <td id=\"T_118eeb80_b19b_11e8_978e_784f43979e13row0_col3\" class=\"data row0 col3\" >-0.0549345</td> \n",
       "        <td id=\"T_118eeb80_b19b_11e8_978e_784f43979e13row0_col4\" class=\"data row0 col4\" >-0.03404</td> \n",
       "        <td id=\"T_118eeb80_b19b_11e8_978e_784f43979e13row0_col5\" class=\"data row0 col5\" >0.0831508</td> \n",
       "        <td id=\"T_118eeb80_b19b_11e8_978e_784f43979e13row0_col6\" class=\"data row0 col6\" >0.25529</td> \n",
       "        <td id=\"T_118eeb80_b19b_11e8_978e_784f43979e13row0_col7\" class=\"data row0 col7\" >0.00453573</td> \n",
       "        <td id=\"T_118eeb80_b19b_11e8_978e_784f43979e13row0_col8\" class=\"data row0 col8\" >-0.151777</td> \n",
       "    </tr>    <tr> \n",
       "        <th id=\"T_118eeb80_b19b_11e8_978e_784f43979e13level0_row1\" class=\"row_heading level0 row1\" >Pclass</th> \n",
       "        <td id=\"T_118eeb80_b19b_11e8_978e_784f43979e13row1_col0\" class=\"data row1 col0\" >-0.335549</td> \n",
       "        <td id=\"T_118eeb80_b19b_11e8_978e_784f43979e13row1_col1\" class=\"data row1 col1\" >1</td> \n",
       "        <td id=\"T_118eeb80_b19b_11e8_978e_784f43979e13row1_col2\" class=\"data row1 col2\" >0.127741</td> \n",
       "        <td id=\"T_118eeb80_b19b_11e8_978e_784f43979e13row1_col3\" class=\"data row1 col3\" >-0.401322</td> \n",
       "        <td id=\"T_118eeb80_b19b_11e8_978e_784f43979e13row1_col4\" class=\"data row1 col4\" >0.0816556</td> \n",
       "        <td id=\"T_118eeb80_b19b_11e8_978e_784f43979e13row1_col5\" class=\"data row1 col5\" >0.0168245</td> \n",
       "        <td id=\"T_118eeb80_b19b_11e8_978e_784f43979e13row1_col6\" class=\"data row1 col6\" >-0.548193</td> \n",
       "        <td id=\"T_118eeb80_b19b_11e8_978e_784f43979e13row1_col7\" class=\"data row1 col7\" >0.220558</td> \n",
       "        <td id=\"T_118eeb80_b19b_11e8_978e_784f43979e13row1_col8\" class=\"data row1 col8\" >0.0764664</td> \n",
       "    </tr>    <tr> \n",
       "        <th id=\"T_118eeb80_b19b_11e8_978e_784f43979e13level0_row2\" class=\"row_heading level0 row2\" >Sex</th> \n",
       "        <td id=\"T_118eeb80_b19b_11e8_978e_784f43979e13row2_col0\" class=\"data row2 col0\" >-0.541585</td> \n",
       "        <td id=\"T_118eeb80_b19b_11e8_978e_784f43979e13row2_col1\" class=\"data row2 col1\" >0.127741</td> \n",
       "        <td id=\"T_118eeb80_b19b_11e8_978e_784f43979e13row2_col2\" class=\"data row2 col2\" >1</td> \n",
       "        <td id=\"T_118eeb80_b19b_11e8_978e_784f43979e13row2_col3\" class=\"data row2 col3\" >0.0855636</td> \n",
       "        <td id=\"T_118eeb80_b19b_11e8_978e_784f43979e13row2_col4\" class=\"data row2 col4\" >-0.116348</td> \n",
       "        <td id=\"T_118eeb80_b19b_11e8_978e_784f43979e13row2_col5\" class=\"data row2 col5\" >-0.247508</td> \n",
       "        <td id=\"T_118eeb80_b19b_11e8_978e_784f43979e13row2_col6\" class=\"data row2 col6\" >-0.179958</td> \n",
       "        <td id=\"T_118eeb80_b19b_11e8_978e_784f43979e13row2_col7\" class=\"data row2 col7\" >-0.0752167</td> \n",
       "        <td id=\"T_118eeb80_b19b_11e8_978e_784f43979e13row2_col8\" class=\"data row2 col8\" >0.121405</td> \n",
       "    </tr>    <tr> \n",
       "        <th id=\"T_118eeb80_b19b_11e8_978e_784f43979e13level0_row3\" class=\"row_heading level0 row3\" >Age</th> \n",
       "        <td id=\"T_118eeb80_b19b_11e8_978e_784f43979e13row3_col0\" class=\"data row3 col0\" >-0.0549345</td> \n",
       "        <td id=\"T_118eeb80_b19b_11e8_978e_784f43979e13row3_col1\" class=\"data row3 col1\" >-0.401322</td> \n",
       "        <td id=\"T_118eeb80_b19b_11e8_978e_784f43979e13row3_col2\" class=\"data row3 col2\" >0.0855636</td> \n",
       "        <td id=\"T_118eeb80_b19b_11e8_978e_784f43979e13row3_col3\" class=\"data row3 col3\" >1</td> \n",
       "        <td id=\"T_118eeb80_b19b_11e8_978e_784f43979e13row3_col4\" class=\"data row3 col4\" >-0.242834</td> \n",
       "        <td id=\"T_118eeb80_b19b_11e8_978e_784f43979e13row3_col5\" class=\"data row3 col5\" >-0.17428</td> \n",
       "        <td id=\"T_118eeb80_b19b_11e8_978e_784f43979e13row3_col6\" class=\"data row3 col6\" >0.118205</td> \n",
       "        <td id=\"T_118eeb80_b19b_11e8_978e_784f43979e13row3_col7\" class=\"data row3 col7\" >-0.0708466</td> \n",
       "        <td id=\"T_118eeb80_b19b_11e8_978e_784f43979e13row3_col8\" class=\"data row3 col8\" >0.00632534</td> \n",
       "    </tr>    <tr> \n",
       "        <th id=\"T_118eeb80_b19b_11e8_978e_784f43979e13level0_row4\" class=\"row_heading level0 row4\" >SibSp</th> \n",
       "        <td id=\"T_118eeb80_b19b_11e8_978e_784f43979e13row4_col0\" class=\"data row4 col0\" >-0.03404</td> \n",
       "        <td id=\"T_118eeb80_b19b_11e8_978e_784f43979e13row4_col1\" class=\"data row4 col1\" >0.0816556</td> \n",
       "        <td id=\"T_118eeb80_b19b_11e8_978e_784f43979e13row4_col2\" class=\"data row4 col2\" >-0.116348</td> \n",
       "        <td id=\"T_118eeb80_b19b_11e8_978e_784f43979e13row4_col3\" class=\"data row4 col3\" >-0.242834</td> \n",
       "        <td id=\"T_118eeb80_b19b_11e8_978e_784f43979e13row4_col4\" class=\"data row4 col4\" >1</td> \n",
       "        <td id=\"T_118eeb80_b19b_11e8_978e_784f43979e13row4_col5\" class=\"data row4 col5\" >0.414542</td> \n",
       "        <td id=\"T_118eeb80_b19b_11e8_978e_784f43979e13row4_col6\" class=\"data row4 col6\" >0.160887</td> \n",
       "        <td id=\"T_118eeb80_b19b_11e8_978e_784f43979e13row4_col7\" class=\"data row4 col7\" >-0.0266917</td> \n",
       "        <td id=\"T_118eeb80_b19b_11e8_978e_784f43979e13row4_col8\" class=\"data row4 col8\" >0.0694383</td> \n",
       "    </tr>    <tr> \n",
       "        <th id=\"T_118eeb80_b19b_11e8_978e_784f43979e13level0_row5\" class=\"row_heading level0 row5\" >Parch</th> \n",
       "        <td id=\"T_118eeb80_b19b_11e8_978e_784f43979e13row5_col0\" class=\"data row5 col0\" >0.0831508</td> \n",
       "        <td id=\"T_118eeb80_b19b_11e8_978e_784f43979e13row5_col1\" class=\"data row5 col1\" >0.0168245</td> \n",
       "        <td id=\"T_118eeb80_b19b_11e8_978e_784f43979e13row5_col2\" class=\"data row5 col2\" >-0.247508</td> \n",
       "        <td id=\"T_118eeb80_b19b_11e8_978e_784f43979e13row5_col3\" class=\"data row5 col3\" >-0.17428</td> \n",
       "        <td id=\"T_118eeb80_b19b_11e8_978e_784f43979e13row5_col4\" class=\"data row5 col4\" >0.414542</td> \n",
       "        <td id=\"T_118eeb80_b19b_11e8_978e_784f43979e13row5_col5\" class=\"data row5 col5\" >1</td> \n",
       "        <td id=\"T_118eeb80_b19b_11e8_978e_784f43979e13row5_col6\" class=\"data row5 col6\" >0.217532</td> \n",
       "        <td id=\"T_118eeb80_b19b_11e8_978e_784f43979e13row5_col7\" class=\"data row5 col7\" >-0.0815851</td> \n",
       "        <td id=\"T_118eeb80_b19b_11e8_978e_784f43979e13row5_col8\" class=\"data row5 col8\" >0.0615116</td> \n",
       "    </tr>    <tr> \n",
       "        <th id=\"T_118eeb80_b19b_11e8_978e_784f43979e13level0_row6\" class=\"row_heading level0 row6\" >Fare</th> \n",
       "        <td id=\"T_118eeb80_b19b_11e8_978e_784f43979e13row6_col0\" class=\"data row6 col0\" >0.25529</td> \n",
       "        <td id=\"T_118eeb80_b19b_11e8_978e_784f43979e13row6_col1\" class=\"data row6 col1\" >-0.548193</td> \n",
       "        <td id=\"T_118eeb80_b19b_11e8_978e_784f43979e13row6_col2\" class=\"data row6 col2\" >-0.179958</td> \n",
       "        <td id=\"T_118eeb80_b19b_11e8_978e_784f43979e13row6_col3\" class=\"data row6 col3\" >0.118205</td> \n",
       "        <td id=\"T_118eeb80_b19b_11e8_978e_784f43979e13row6_col4\" class=\"data row6 col4\" >0.160887</td> \n",
       "        <td id=\"T_118eeb80_b19b_11e8_978e_784f43979e13row6_col5\" class=\"data row6 col5\" >0.217532</td> \n",
       "        <td id=\"T_118eeb80_b19b_11e8_978e_784f43979e13row6_col6\" class=\"data row6 col6\" >1</td> \n",
       "        <td id=\"T_118eeb80_b19b_11e8_978e_784f43979e13row6_col7\" class=\"data row6 col7\" >-0.116684</td> \n",
       "        <td id=\"T_118eeb80_b19b_11e8_978e_784f43979e13row6_col8\" class=\"data row6 col8\" >-0.163758</td> \n",
       "    </tr>    <tr> \n",
       "        <th id=\"T_118eeb80_b19b_11e8_978e_784f43979e13level0_row7\" class=\"row_heading level0 row7\" >Q</th> \n",
       "        <td id=\"T_118eeb80_b19b_11e8_978e_784f43979e13row7_col0\" class=\"data row7 col0\" >0.00453573</td> \n",
       "        <td id=\"T_118eeb80_b19b_11e8_978e_784f43979e13row7_col1\" class=\"data row7 col1\" >0.220558</td> \n",
       "        <td id=\"T_118eeb80_b19b_11e8_978e_784f43979e13row7_col2\" class=\"data row7 col2\" >-0.0752167</td> \n",
       "        <td id=\"T_118eeb80_b19b_11e8_978e_784f43979e13row7_col3\" class=\"data row7 col3\" >-0.0708466</td> \n",
       "        <td id=\"T_118eeb80_b19b_11e8_978e_784f43979e13row7_col4\" class=\"data row7 col4\" >-0.0266917</td> \n",
       "        <td id=\"T_118eeb80_b19b_11e8_978e_784f43979e13row7_col5\" class=\"data row7 col5\" >-0.0815851</td> \n",
       "        <td id=\"T_118eeb80_b19b_11e8_978e_784f43979e13row7_col6\" class=\"data row7 col6\" >-0.116684</td> \n",
       "        <td id=\"T_118eeb80_b19b_11e8_978e_784f43979e13row7_col7\" class=\"data row7 col7\" >1</td> \n",
       "        <td id=\"T_118eeb80_b19b_11e8_978e_784f43979e13row7_col8\" class=\"data row7 col8\" >-0.499261</td> \n",
       "    </tr>    <tr> \n",
       "        <th id=\"T_118eeb80_b19b_11e8_978e_784f43979e13level0_row8\" class=\"row_heading level0 row8\" >S</th> \n",
       "        <td id=\"T_118eeb80_b19b_11e8_978e_784f43979e13row8_col0\" class=\"data row8 col0\" >-0.151777</td> \n",
       "        <td id=\"T_118eeb80_b19b_11e8_978e_784f43979e13row8_col1\" class=\"data row8 col1\" >0.0764664</td> \n",
       "        <td id=\"T_118eeb80_b19b_11e8_978e_784f43979e13row8_col2\" class=\"data row8 col2\" >0.121405</td> \n",
       "        <td id=\"T_118eeb80_b19b_11e8_978e_784f43979e13row8_col3\" class=\"data row8 col3\" >0.00632534</td> \n",
       "        <td id=\"T_118eeb80_b19b_11e8_978e_784f43979e13row8_col4\" class=\"data row8 col4\" >0.0694383</td> \n",
       "        <td id=\"T_118eeb80_b19b_11e8_978e_784f43979e13row8_col5\" class=\"data row8 col5\" >0.0615116</td> \n",
       "        <td id=\"T_118eeb80_b19b_11e8_978e_784f43979e13row8_col6\" class=\"data row8 col6\" >-0.163758</td> \n",
       "        <td id=\"T_118eeb80_b19b_11e8_978e_784f43979e13row8_col7\" class=\"data row8 col7\" >-0.499261</td> \n",
       "        <td id=\"T_118eeb80_b19b_11e8_978e_784f43979e13row8_col8\" class=\"data row8 col8\" >1</td> \n",
       "    </tr></tbody> \n",
       "</table> "
      ],
      "text/plain": [
       "<pandas.io.formats.style.Styler at 0x1a2af3cdd0>"
      ]
     },
     "execution_count": 36,
     "metadata": {},
     "output_type": "execute_result"
    }
   ],
   "source": [
    "# we need to statistically reject the column\n",
    "corr = data_df.corr()\n",
    "corr.style.background_gradient()"
   ]
  },
  {
   "cell_type": "code",
   "execution_count": 37,
   "metadata": {
    "scrolled": true
   },
   "outputs": [
    {
     "name": "stdout",
     "output_type": "stream",
     "text": [
      "<class 'pandas.core.frame.DataFrame'>\n",
      "Int64Index: 889 entries, 0 to 890\n",
      "Data columns (total 9 columns):\n",
      "Survived    889 non-null int64\n",
      "Pclass      889 non-null int64\n",
      "Sex         889 non-null int64\n",
      "Age         889 non-null float64\n",
      "SibSp       889 non-null int64\n",
      "Parch       889 non-null int64\n",
      "Fare        889 non-null float64\n",
      "Q           889 non-null uint8\n",
      "S           889 non-null uint8\n",
      "dtypes: float64(2), int64(5), uint8(2)\n",
      "memory usage: 57.3 KB\n"
     ]
    }
   ],
   "source": [
    "data_df.info()"
   ]
  },
  {
   "cell_type": "markdown",
   "metadata": {},
   "source": [
    "## Test Train split and Model building"
   ]
  },
  {
   "cell_type": "code",
   "execution_count": 38,
   "metadata": {},
   "outputs": [],
   "source": [
    "X = data_df[data_df.columns[1:8]]\n",
    "y = data_df[data_df.columns[0]]"
   ]
  },
  {
   "cell_type": "code",
   "execution_count": 39,
   "metadata": {
    "scrolled": true
   },
   "outputs": [
    {
     "data": {
      "text/html": [
       "<div>\n",
       "<style scoped>\n",
       "    .dataframe tbody tr th:only-of-type {\n",
       "        vertical-align: middle;\n",
       "    }\n",
       "\n",
       "    .dataframe tbody tr th {\n",
       "        vertical-align: top;\n",
       "    }\n",
       "\n",
       "    .dataframe thead th {\n",
       "        text-align: right;\n",
       "    }\n",
       "</style>\n",
       "<table border=\"1\" class=\"dataframe\">\n",
       "  <thead>\n",
       "    <tr style=\"text-align: right;\">\n",
       "      <th></th>\n",
       "      <th>Pclass</th>\n",
       "      <th>Sex</th>\n",
       "      <th>Age</th>\n",
       "      <th>SibSp</th>\n",
       "      <th>Parch</th>\n",
       "      <th>Fare</th>\n",
       "      <th>Q</th>\n",
       "    </tr>\n",
       "  </thead>\n",
       "  <tbody>\n",
       "    <tr>\n",
       "      <th>0</th>\n",
       "      <td>3</td>\n",
       "      <td>1</td>\n",
       "      <td>22.0</td>\n",
       "      <td>1</td>\n",
       "      <td>0</td>\n",
       "      <td>7.2500</td>\n",
       "      <td>0</td>\n",
       "    </tr>\n",
       "    <tr>\n",
       "      <th>1</th>\n",
       "      <td>1</td>\n",
       "      <td>0</td>\n",
       "      <td>38.0</td>\n",
       "      <td>1</td>\n",
       "      <td>0</td>\n",
       "      <td>71.2833</td>\n",
       "      <td>0</td>\n",
       "    </tr>\n",
       "    <tr>\n",
       "      <th>2</th>\n",
       "      <td>3</td>\n",
       "      <td>0</td>\n",
       "      <td>26.0</td>\n",
       "      <td>0</td>\n",
       "      <td>0</td>\n",
       "      <td>7.9250</td>\n",
       "      <td>0</td>\n",
       "    </tr>\n",
       "    <tr>\n",
       "      <th>3</th>\n",
       "      <td>1</td>\n",
       "      <td>0</td>\n",
       "      <td>35.0</td>\n",
       "      <td>1</td>\n",
       "      <td>0</td>\n",
       "      <td>53.1000</td>\n",
       "      <td>0</td>\n",
       "    </tr>\n",
       "    <tr>\n",
       "      <th>4</th>\n",
       "      <td>3</td>\n",
       "      <td>1</td>\n",
       "      <td>35.0</td>\n",
       "      <td>0</td>\n",
       "      <td>0</td>\n",
       "      <td>8.0500</td>\n",
       "      <td>0</td>\n",
       "    </tr>\n",
       "  </tbody>\n",
       "</table>\n",
       "</div>"
      ],
      "text/plain": [
       "   Pclass  Sex   Age  SibSp  Parch     Fare  Q\n",
       "0       3    1  22.0      1      0   7.2500  0\n",
       "1       1    0  38.0      1      0  71.2833  0\n",
       "2       3    0  26.0      0      0   7.9250  0\n",
       "3       1    0  35.0      1      0  53.1000  0\n",
       "4       3    1  35.0      0      0   8.0500  0"
      ]
     },
     "execution_count": 39,
     "metadata": {},
     "output_type": "execute_result"
    }
   ],
   "source": [
    "X.head()"
   ]
  },
  {
   "cell_type": "code",
   "execution_count": 40,
   "metadata": {},
   "outputs": [
    {
     "data": {
      "text/plain": [
       "0    0\n",
       "1    1\n",
       "2    1\n",
       "3    1\n",
       "4    0\n",
       "Name: Survived, dtype: int64"
      ]
     },
     "execution_count": 40,
     "metadata": {},
     "output_type": "execute_result"
    }
   ],
   "source": [
    "y.head()"
   ]
  },
  {
   "cell_type": "code",
   "execution_count": 41,
   "metadata": {},
   "outputs": [],
   "source": [
    "X_train, X_test, y_train, y_test = train_test_split(X, y, test_size = .3, random_state=25)\n"
   ]
  },
  {
   "cell_type": "markdown",
   "metadata": {},
   "source": [
    "# Logistic Regression Model"
   ]
  },
  {
   "cell_type": "code",
   "execution_count": 42,
   "metadata": {},
   "outputs": [],
   "source": [
    "model = LogisticRegression()"
   ]
  },
  {
   "cell_type": "code",
   "execution_count": 43,
   "metadata": {},
   "outputs": [
    {
     "data": {
      "text/plain": [
       "LogisticRegression(C=1.0, class_weight=None, dual=False, fit_intercept=True,\n",
       "          intercept_scaling=1, max_iter=100, multi_class='ovr', n_jobs=1,\n",
       "          penalty='l2', random_state=None, solver='liblinear', tol=0.0001,\n",
       "          verbose=0, warm_start=False)"
      ]
     },
     "execution_count": 43,
     "metadata": {},
     "output_type": "execute_result"
    }
   ],
   "source": [
    "model.fit(X_train,y_train)"
   ]
  },
  {
   "cell_type": "code",
   "execution_count": 44,
   "metadata": {},
   "outputs": [],
   "source": [
    "y_pred = model.predict(X_test)"
   ]
  },
  {
   "cell_type": "code",
   "execution_count": 45,
   "metadata": {
    "scrolled": true
   },
   "outputs": [
    {
     "data": {
      "text/plain": [
       "array([[137,  27],\n",
       "       [ 34,  69]])"
      ]
     },
     "execution_count": 45,
     "metadata": {},
     "output_type": "execute_result"
    }
   ],
   "source": [
    "from sklearn.metrics import confusion_matrix\n",
    "confusion_matrix = confusion_matrix(y_test, y_pred)\n",
    "confusion_matrix"
   ]
  },
  {
   "cell_type": "markdown",
   "metadata": {},
   "source": [
    "## The result of confusion matrix is looking good. "
   ]
  },
  {
   "cell_type": "code",
   "execution_count": 46,
   "metadata": {},
   "outputs": [
    {
     "name": "stdout",
     "output_type": "stream",
     "text": [
      "             precision    recall  f1-score   support\n",
      "\n",
      "          0       0.80      0.84      0.82       164\n",
      "          1       0.72      0.67      0.69       103\n",
      "\n",
      "avg / total       0.77      0.77      0.77       267\n",
      "\n"
     ]
    }
   ],
   "source": [
    "print(classification_report(y_test, y_pred))"
   ]
  },
  {
   "cell_type": "code",
   "execution_count": null,
   "metadata": {},
   "outputs": [],
   "source": []
  },
  {
   "cell_type": "markdown",
   "metadata": {},
   "source": [
    "## The precision of the model is 0.80 "
   ]
  },
  {
   "cell_type": "markdown",
   "metadata": {},
   "source": [
    "## Accuracy = (Number of elements correctly classified)/(Total elements)"
   ]
  },
  {
   "cell_type": "markdown",
   "metadata": {},
   "source": [
    "Accuracy (ACC) = (Σ True positive + Σ True negative)/Σ Total population"
   ]
  },
  {
   "cell_type": "code",
   "execution_count": 59,
   "metadata": {},
   "outputs": [],
   "source": [
    "Accuracy = (137.0+69.0) / (137.0+69+27+34.0)"
   ]
  },
  {
   "cell_type": "code",
   "execution_count": 60,
   "metadata": {},
   "outputs": [
    {
     "data": {
      "text/plain": [
       "0.7715355805243446"
      ]
     },
     "execution_count": 60,
     "metadata": {},
     "output_type": "execute_result"
    }
   ],
   "source": [
    "Accuracy"
   ]
  },
  {
   "cell_type": "markdown",
   "metadata": {},
   "source": [
    "# Hence the logistic regression mode has accuracy of 0.7715355805243446"
   ]
  },
  {
   "cell_type": "code",
   "execution_count": null,
   "metadata": {},
   "outputs": [],
   "source": []
  }
 ],
 "metadata": {
  "kernelspec": {
   "display_name": "Python 2",
   "language": "python",
   "name": "python2"
  },
  "language_info": {
   "codemirror_mode": {
    "name": "ipython",
    "version": 2
   },
   "file_extension": ".py",
   "mimetype": "text/x-python",
   "name": "python",
   "nbconvert_exporter": "python",
   "pygments_lexer": "ipython2",
   "version": "2.7.15"
  }
 },
 "nbformat": 4,
 "nbformat_minor": 2
}
